{
 "cells": [
  {
   "cell_type": "markdown",
   "id": "c57002ce-1dd1-4fc8-8707-5602cb47038d",
   "metadata": {},
   "source": [
    "Ideas:\n",
    "    \n",
    "  - galaxy\n",
    "      - with psf\n",
    "      - with noise\n",
    "      - with shear\n",
    "      \n",
    "  - star\n",
    "  - mixed scene\n",
    "  - on a grid\n",
    "  - ...\n",
    "  - Balrog explicitly\n",
    "  - Balrog w/ a custom class\n",
    "      - initial images: JWST, real DES"
   ]
  },
  {
   "cell_type": "markdown",
   "id": "e302c53e-c5c3-4b61-b900-58cd41769148",
   "metadata": {},
   "source": [
    "# We have data - why bother with simulations?"
   ]
  },
  {
   "cell_type": "markdown",
   "id": "4f170e90-1679-400c-9883-682329118064",
   "metadata": {},
   "source": [
    "Before we start, it's worth thinking about _why_ we want to make image simulations (compared to physical n-body simulations). What kinds of questions do they help us answer?"
   ]
  },
  {
   "cell_type": "markdown",
   "id": "d123849f-2b5f-4f68-be7a-5e10fa13871b",
   "metadata": {},
   "source": [
    "Consider the exciting new JWST image:"
   ]
  },
  {
   "cell_type": "markdown",
   "id": "aff56c99-5bb4-449e-8179-6229d6b5fc0f",
   "metadata": {},
   "source": [
    "![](images/JWSTfirstimageSMACS0723.jpg)"
   ]
  },
  {
   "cell_type": "markdown",
   "id": "046bdf4a-1cde-480e-8d0b-dd4346eba714",
   "metadata": {},
   "source": [
    "We want to detect galaxies & measure their properties to constrain cosmology. But it raises lots of questions: \n",
    "- How do we know whether a blob of pixels is a source or not? Or multiple sources?\n",
    "- How far away are they?\n",
    "- What are their properties?\n",
    "- How can we _trust_ our measurements of those properties are accurate?\n",
    "- Give our measurements of lensed galaxies, what are their _real_ properties?\n",
    "- What are we missing?"
   ]
  },
  {
   "cell_type": "markdown",
   "id": "c42bc0f1-c0f0-4da0-a406-c949818e8b81",
   "metadata": {},
   "source": [
    "If we can _simulate_ what our telescopes see and make them \"as realistic as the real thing\" (What does that mean? How can we tell? More on this later), then we can calibrate our measuring tools on a known truth and increase our trust in our measurements. This is especially important for the raw images we actually measure, compared to the very cleaned & processed images that you are used to from press releases:"
   ]
  },
  {
   "cell_type": "markdown",
   "id": "3a8f32dd-9b7f-4983-9f10-493f709f1c90",
   "metadata": {},
   "source": [
    "(real Dark Energy Survey Year 3 image)![](images/real-images-good.png)"
   ]
  },
  {
   "cell_type": "markdown",
   "id": "419804d1-619b-4f29-adab-3b5a1ddf7acc",
   "metadata": {},
   "source": [
    "(when things go wrong!)\n",
    "![](images/real-images-bad.png)"
   ]
  },
  {
   "cell_type": "markdown",
   "id": "5bd63a10-66f9-4c42-a1a9-1d206e86f0be",
   "metadata": {},
   "source": [
    "(Some examples of what goes wrong from the real universe to our images)\n",
    "\n",
    "![](images/sim.gif)"
   ]
  },
  {
   "cell_type": "markdown",
   "id": "19beee0a-7b2c-4f1a-b543-e7d5339dd422",
   "metadata": {},
   "source": [
    "`GalSim` is a python package that allows us to make astronomical CCD image simulations piece-by-piece, specifying exactly what we want to simulate and where. It is widely used in the field for a variety of projects, validating the measurements of multi-billion dollar experiments such as the upcoming Vera Rubin Observabory's Legacy Survey of Space and Time. It is also extremely well documented & user-friendly for academic research code.\n",
    "\n",
    "Take a look at the github repository [here](https://github.com/GalSim-developers/GalSim)"
   ]
  },
  {
   "cell_type": "markdown",
   "id": "b0048ad3-faf3-407f-8d03-bb1f84935612",
   "metadata": {},
   "source": [
    "There are lots of great demos in the `examples` directory, and a [tutorial page]() that steps you through how to run them and adding features slowly to go from simple to more and more complex images."
   ]
  },
  {
   "cell_type": "markdown",
   "id": "8b6b8da9-1fdd-4d92-8618-dc55c2ae0ed6",
   "metadata": {},
   "source": [
    "I highly recommend going through these if you are interested at all in galsim, but we will do a few of our own here that are more hands-on and will require some input from you to help you learn the interface better"
   ]
  },
  {
   "cell_type": "markdown",
   "id": "6fb85413-e24e-4180-bcb9-30162d67f197",
   "metadata": {},
   "source": [
    "## Enough already, show me the GalSim!"
   ]
  },
  {
   "cell_type": "markdown",
   "id": "753cfb33-f386-4342-9fbe-c71f6e10d3a6",
   "metadata": {},
   "source": [
    "**Too bad**. Let's think about the physics of a real image. Point your favorite telescope at the sky - what kinds of things will you see, and what kind of effects do we need to consider to make realistic images?"
   ]
  },
  {
   "cell_type": "markdown",
   "id": "25bd0657-a288-4f9d-aa90-f870d528acb2",
   "metadata": {},
   "source": [
    "(No really, tell me)"
   ]
  },
  {
   "cell_type": "markdown",
   "id": "b0baf38b-70de-49fb-8d22-68f65b99e6f9",
   "metadata": {},
   "source": [
    "Let's add some of these features catagorized by \"theme\" in a python dictionary, as if we were going to make this the basis of our simulation software:"
   ]
  },
  {
   "cell_type": "code",
   "execution_count": null,
   "id": "6baa7c9a-7372-4483-ae8f-4fc09728c40a",
   "metadata": {},
   "outputs": [],
   "source": [
    "# We'll fill this out together, don't worry :)\n",
    "simulation = {\n",
    "    'theme1': {},\n",
    "    'theme2': {},\n",
    "    'theme3': {}\n",
    "}"
   ]
  },
  {
   "cell_type": "markdown",
   "id": "fc6a014f-8baf-48f9-abbb-07a2ae4a9b94",
   "metadata": {},
   "source": [
    "Hopefully we came up with some good features / themes. Luckily, GalSim is structured in a similar way! Let's modify what we came up with to actually speak galsim's language:"
   ]
  },
  {
   "cell_type": "code",
   "execution_count": null,
   "id": "3ad81a70-2bcf-4f21-8e4c-d57f48afc925",
   "metadata": {},
   "outputs": [],
   "source": [
    "galsim_simulation = {\n",
    "    'field1': {},\n",
    "    'field2': {},\n",
    "    'field3': {}\n",
    "}"
   ]
  },
  {
   "cell_type": "markdown",
   "id": "a89a033a-bb84-45b8-9e7d-dabc446380d8",
   "metadata": {},
   "source": [
    "If we save this dictionary to a config file (specifically `yaml` format, though `json` works as well), we can pass this to the `galsim` executable that your computer now has if you are on a conda environment with galsim installed (you did follow the instruction readme, right?) \n",
    "\n",
    "I was nice and wrote some helper functions to do this, so just call them from the included `utils.py` file:"
   ]
  },
  {
   "cell_type": "code",
   "execution_count": null,
   "id": "162463ab-4d84-4e82-afec-bb10394b0140",
   "metadata": {},
   "outputs": [],
   "source": [
    "import os\n",
    "import utils\n",
    "\n",
    "config_filename = 'configs/hello-world.yaml'\n",
    "utils.write_yaml(galsim_simulation, config_filename)"
   ]
  },
  {
   "cell_type": "markdown",
   "id": "5de2e3d5-e437-4dfe-9655-b107b04c65f7",
   "metadata": {},
   "source": [
    "Now run it, like we would on the terminal:"
   ]
  },
  {
   "cell_type": "code",
   "execution_count": null,
   "id": "c46422a3-f3c2-4ec2-821a-1b89e084f11c",
   "metadata": {},
   "outputs": [],
   "source": [
    "!galsim configs/hello-world.yaml"
   ]
  },
  {
   "cell_type": "markdown",
   "id": "f7541c1f-578a-4444-bf8c-2ab416d0273b",
   "metadata": {},
   "source": [
    "Success! (hopefully). Now let's open up the fits file in python and look around:"
   ]
  },
  {
   "cell_type": "code",
   "execution_count": null,
   "id": "267dba67-f805-4e30-a3d7-74b132f124cc",
   "metadata": {},
   "outputs": [],
   "source": [
    "from astropy.io import fits \n",
    "\n",
    "# for the experts: I vastly prefer fitsio, but that is a story for another day\n",
    "# import fitsio\n",
    "\n",
    "with fits.open('out/hello-world.fits') as f:\n",
    "    print(f.info())\n",
    "    \n",
    "    image = f[0].data"
   ]
  },
  {
   "cell_type": "markdown",
   "id": "5b7636bf-b2ba-4301-a7e5-80f5a6644ca1",
   "metadata": {},
   "source": [
    "We can look at the image using `matplotlib`s `imshow()` function:"
   ]
  },
  {
   "cell_type": "code",
   "execution_count": null,
   "id": "e696e88d-b118-44f8-8a60-3ca244d3195c",
   "metadata": {},
   "outputs": [],
   "source": [
    "import matplotlib.pyplot as plt\n",
    "%matplotlib inline"
   ]
  },
  {
   "cell_type": "code",
   "execution_count": null,
   "id": "0b58abe6-a826-4df6-8040-555cd40615f3",
   "metadata": {},
   "outputs": [],
   "source": [
    "plt.imshow(image)\n",
    "plt.gcf().set_size_inches(7,7) # however big you want!"
   ]
  },
  {
   "cell_type": "markdown",
   "id": "a5693ee7-4f2e-47ba-ac74-c7e1b6c3fe6e",
   "metadata": {},
   "source": [
    "Depending on what parameter values we gave in the dictionary for things like the noise, you might have to tweak `vmin` and `vmax`:"
   ]
  },
  {
   "cell_type": "code",
   "execution_count": null,
   "id": "ccab1915-0695-41f2-bd0c-d14b957f630b",
   "metadata": {},
   "outputs": [],
   "source": [
    "plt.imshow(image, vmin=0, vmax=100)\n",
    "plt.gcf().set_size_inches(7,7)"
   ]
  },
  {
   "cell_type": "markdown",
   "id": "b4984ecf-e9bf-4a45-80f6-7a673b0cfa6e",
   "metadata": {},
   "source": [
    "## GalSim using Python"
   ]
  },
  {
   "cell_type": "markdown",
   "id": "b5ae91b7-b132-4163-8998-879ef77bd874",
   "metadata": {},
   "source": [
    "Hopefully we made something cool together. But for more complex simulations or to make the simulations inside of your own project, it is useful to be able to do the same thing using the python API:"
   ]
  },
  {
   "cell_type": "code",
   "execution_count": null,
   "id": "37466b88-1940-4e4d-a7fc-0da2e4db69fe",
   "metadata": {},
   "outputs": [],
   "source": [
    "import galsim as gs"
   ]
  },
  {
   "cell_type": "code",
   "execution_count": null,
   "id": "d2ecd040-126f-4ae7-b976-995439dd397e",
   "metadata": {},
   "outputs": [],
   "source": [
    "# fill this out together\n",
    "gal = ...\n",
    "\n",
    "# plot image..."
   ]
  },
  {
   "cell_type": "markdown",
   "id": "86da8181-a6cc-4840-9a73-2508d6a03184",
   "metadata": {},
   "source": [
    "Here's another example in case i can't figure it out live:"
   ]
  },
  {
   "cell_type": "code",
   "execution_count": null,
   "id": "006ec625-1374-470e-a92b-aba5aec39974",
   "metadata": {},
   "outputs": [],
   "source": [
    "# Setup galaxy (most defaults are in arcsec if not specified)\n",
    "gal = gs.Sersic(flux=1e5, n=1, half_light_radius=2)\n",
    "\n",
    "# give it an intrinsic non-circular shape (we'll define g1/g2 later)\n",
    "g1, g2 = 0.2, -0.1\n",
    "gal = gal.shear(g1=g1, g2=g2)\n",
    "\n",
    "# setup psf (PSF flux should always add to 1, also the default)\n",
    "psf = gs.Gaussian(flux=1, sigma=0.7) # not a realistic model, but that's ok\n",
    "\n",
    "# an observed galaxy will be the convolution of the galaxy's intrinsic light profile \n",
    "# with the PSF and camera pixels (pixel convolution happens later)\n",
    "obs_gal = gs.Convolve([gal, psf])\n",
    "\n",
    "# draw image\n",
    "pixel_scale = 0.141 # arcsec / pixel; this is SuperBIT's pixel scale!\n",
    "image = obs_gal.drawImage(scale=pixel_scale)\n",
    "\n",
    "# add some noise to the image\n",
    "noise = gs.GaussianNoise(sigma=3)\n",
    "image.addNoise(noise)"
   ]
  },
  {
   "cell_type": "markdown",
   "id": "166c6dd7-30e3-4304-b35b-83e2e10ee634",
   "metadata": {},
   "source": [
    "`image` is a GalSim object, `imshow()` doesn't know how to plot it. So grab the underlying data:"
   ]
  },
  {
   "cell_type": "code",
   "execution_count": null,
   "id": "f49150d9-4ecb-4bcc-ba55-d034d42c4e04",
   "metadata": {},
   "outputs": [],
   "source": [
    "im = image.array\n",
    "plt.imshow(im, origin='lower')\n",
    "plt.colorbar()\n",
    "plt.gcf().set_size_inches(7,7)"
   ]
  },
  {
   "cell_type": "markdown",
   "id": "d409c229-6149-4e98-8816-8de7f5f1d13a",
   "metadata": {},
   "source": [
    "## Actually understanding the PSF, and using DS9"
   ]
  },
  {
   "cell_type": "markdown",
   "id": "a79422cd-e5c2-4c70-92e6-1c42c6243c35",
   "metadata": {},
   "source": [
    "Let's try to understand the PSF better and what is actually going on under the hood. It will also give us an opportunity to try out some DS9 features."
   ]
  },
  {
   "cell_type": "markdown",
   "id": "ae7499e9-522f-400b-b651-c1625db48e3b",
   "metadata": {},
   "source": [
    "First, a high-resolution look at an [Airy disk](https://en.wikipedia.org/wiki/Airy_disk), the best-possible case if we were in space & only had a PSF from diffraction from our telescope's circular aperture:"
   ]
  },
  {
   "cell_type": "code",
   "execution_count": null,
   "id": "94580cda-ec4e-4c45-aa07-0fe111546b82",
   "metadata": {},
   "outputs": [],
   "source": [
    "config = {\n",
    "    'gal': { \n",
    "      'type': 'DeltaFunction',\n",
    "      'flux': 100000\n",
    "    },\n",
    "\n",
    "    'psf': {\n",
    "      'type': 'Airy',\n",
    "      'lam': 500,\n",
    "      'diam': 0.5 \n",
    "    },\n",
    "\n",
    "    'image': {\n",
    "      'noise': {\n",
    "        'type': 'Gaussian',\n",
    "        'sigma': 1\n",
    "      },\n",
    "      'pixel_scale': 0.01,\n",
    "      'size': 100\n",
    "    },\n",
    "\n",
    "    'output': {\n",
    "      'dir': 'output_yaml',\n",
    "      'file_name': 'airy.fits'\n",
    "    }\n",
    "}\n",
    "\n",
    "outfile = 'configs/airy.yaml'\n",
    "utils.write_yaml(config, outfile)\n",
    "!galsim 'configs/airy.yaml'"
   ]
  },
  {
   "cell_type": "markdown",
   "id": "5e1d2b67-7b91-4cde-8aa8-4a5327216dfe",
   "metadata": {},
   "source": [
    "Let's open it with DS9! (together)"
   ]
  },
  {
   "cell_type": "markdown",
   "id": "af211e06-1534-4c78-bae8-dce6ad1ea5c9",
   "metadata": {},
   "source": [
    "Now let's use the above config as a base for making 2 new images:\n",
    "- An inclined Sersic galaxy (n=1; exponential disk) with **NO** PSF\n",
    "- The same galaxy with the following PSF: Airy disk convolved with a Gaussian (atmosphere)\n",
    "\n",
    "We can then open up both in DS9 to compare the outputs!"
   ]
  },
  {
   "cell_type": "markdown",
   "id": "5d860cae-367d-478e-836a-a19ac9ba02a8",
   "metadata": {},
   "source": [
    "## Adding Gravitational Lensing"
   ]
  },
  {
   "cell_type": "markdown",
   "id": "72291322-e697-4ccf-8756-e2bfb7232ddf",
   "metadata": {},
   "source": [
    "In weak gravitational lensing measurements, we care about detecting the distortion in galaxy shapes due to traveling through curved space (from local mass overdensities like galaxy clusters). But galaxies already have intrinsic shapes which makes this difficult (called shape noise). Let's try to understand this problem a bit better: "
   ]
  },
  {
   "cell_type": "markdown",
   "id": "9c524d33-c4c8-40fc-9d60-f63abad69fc9",
   "metadata": {},
   "source": [
    "(help w/ understanding shape & shear definitions)\n",
    "\n",
    "![](images/g1g2.png)"
   ]
  },
  {
   "cell_type": "code",
   "execution_count": null,
   "id": "ca520b0c-381e-4eb2-a5a4-4e04a4bc1f74",
   "metadata": {},
   "outputs": [],
   "source": [
    "# Setup galaxy (most defaults are in arcsec if not specified)\n",
    "gal = gs.Sersic(flux=1e5, n=1, half_light_radius=2)\n",
    "\n",
    "# give it an intrinsic non-circular shape\n",
    "g1_shape, g2_shape = 0.3, -0.25\n",
    "gal = gal.shear(g1=g1_shape, g2=g2_shape) # this is to set the intrinsic shape, *not* the lensing shear!\n",
    "\n",
    "# now pretend it has been lensed by a nearby galaxy cluster\n",
    "# (Note that this shear is much smaller than the intrinsic shape, though i boosted it\n",
    "# a bit for the demo)\n",
    "g1_lens, g2_lens = 0.05, -0.075\n",
    "sheared_gal = gal.shear(g1=g1_lens, g2=g2_lens)\n",
    "\n",
    "# setup psf (PSF flux should always add to 1, also the default)\n",
    "psf = gs.Moffat(beta=5, flux=1., half_light_radius=0.75) # more realistic\n",
    "\n",
    "# an observed galaxy will be the convolution of the galaxy's intrinsic light profile \n",
    "# with the PSF and camera pixels (pixel convolution happens later)\n",
    "obs_gal = gs.Convolve([sheared_gal, psf])\n",
    "\n",
    "# draw image\n",
    "pixel_scale = 0.141 # arcsec / pixel; this is SuperBIT's pixel scale!\n",
    "image = obs_gal.drawImage(scale=pixel_scale, nx=200, ny=200)\n",
    "\n",
    "# add some noise to the image\n",
    "noise = gs.GaussianNoise(sigma=5)\n",
    "image.addNoise(noise)\n",
    "\n",
    "# let's estimate the image shape:\n",
    "psf_im = psf.drawImage(scale=pixel_scale, nx=200, ny=200)\n",
    "hsm_results = gs.hsm.EstimateShear(image, psf_im)\n",
    "meas_shape = hsm_results.observed_shape\n",
    "\n",
    "plt.imshow(image.array, origin='lower')\n",
    "plt.colorbar()\n",
    "plt.title(f'observed sheared galaxy (g1={meas_shape.g1:.3f}, g2={meas_shape.g2:.3f})')\n",
    "plt.gcf().set_size_inches(7,7)"
   ]
  },
  {
   "cell_type": "markdown",
   "id": "9ea2aeb6-64d4-40ad-a606-8e97fbe9e279",
   "metadata": {},
   "source": [
    "Let's break down the estimated shape at various stages:"
   ]
  },
  {
   "cell_type": "code",
   "execution_count": null,
   "id": "f7254905-972b-4b2f-990d-09459dd6b630",
   "metadata": {},
   "outputs": [],
   "source": [
    "true_gal_im = gal.drawImage(scale=pixel_scale, nx=200, ny=200)\n",
    "true_meas_shape = gs.hsm.EstimateShear(true_gal_im, psf_im).observed_shape\n",
    "\n",
    "true_sheared_gal_im = sheared_gal.drawImage(scale=pixel_scale, nx=200, ny=200)\n",
    "true_sheared_meas_shape = gs.hsm.EstimateShear(true_sheared_gal_im, psf_im).observed_shape\n",
    "\n",
    "plt.subplot(131)\n",
    "plt.imshow(true_gal_im.array, origin='lower')\n",
    "plt.colorbar()\n",
    "plt.title(f'true galaxy (g1={true_meas_shape.g1:.3f}, g2={true_meas_shape.g2:.3f})')\n",
    "\n",
    "plt.subplot(132)\n",
    "plt.imshow(true_sheared_gal_im.array, origin='lower')\n",
    "plt.colorbar()\n",
    "plt.title(f'sheared galaxy (g1={true_sheared_meas_shape.g1:.3f}, g2={true_sheared_meas_shape.g2:.3f})')\n",
    "\n",
    "plt.subplot(133)\n",
    "plt.imshow(image.array, origin='lower')\n",
    "plt.colorbar()\n",
    "est_e1 = hsm_results.corrected_e1\n",
    "est_e2 = hsm_results.corrected_e2\n",
    "est_shear = gs.Shear(e1=est_e1, e2=est_e2)\n",
    "est_g1, est_g2 = est_shear.g1, est_shear.g2\n",
    "plt.title(f'observed galaxy (g1={meas_shape.g1:.3f}, g2={meas_shape.g2:.3f})\\n' +\\\n",
    "         f'shear estimate: (g1={est_g1:.3f}, g2={est_g2:.3f})')\n",
    "\n",
    "plt.gcf().set_size_inches(18,5)"
   ]
  },
  {
   "cell_type": "markdown",
   "id": "feac99f3-7708-4c27-b479-b6313e9c710a",
   "metadata": {},
   "source": [
    "Notice that our shape estimate is very good due having a perfect PSF model to deconvolve with; this isn't necessarily the case in real data! Also, it's not perfect - why?.\n",
    "\n",
    "Modify the parameters in the above cells given our answer to the above question to see how it affects the estimated shear.\n",
    "\n",
    "Not only do we need to calibrate these effects, but even if we had a perfect estimate, we have no way of knowing how much came from intrinsic shape vs. the actual lensing! That is why we need to average the shapes of _lots_ of nearby galaxies together to estimate the local shear"
   ]
  },
  {
   "cell_type": "markdown",
   "id": "e6d91c55-739a-426f-8e5a-9cc78406f4cf",
   "metadata": {},
   "source": [
    "## Great, but now what?"
   ]
  },
  {
   "cell_type": "markdown",
   "id": "e96b0f62-6dc3-445a-a4fc-92dbe6e0e79d",
   "metadata": {},
   "source": [
    "Hopefully that was enough introduction to get you started. There are a few things for you to try now:\n",
    "1. Clone the `GalSim` repo and work your way through the demos on the [tutorial page](https://github.com/GalSim-developers/GalSim/wiki/Tutorials). There are yaml configs & python scripts for each demo. Make sure to read through them and then open up the output fits file in either python or DS9!\n",
    "2. Check out all of the many options for the galaxy profiles, PSF, image options, etc. on the [config documentation page](https://github.com/GalSim-developers/GalSim/wiki/Config-Documentation)\n",
    "3. Try to construct your own images given my suggested exercises below. I haven't shown you exactly how to do every necessary piece - I recommend searching through the (linked above) tutorial & config documentation pages to find how to call what you need!\n",
    "\n",
    "You can work separately or together - feel free to call me over for help!"
   ]
  },
  {
   "cell_type": "markdown",
   "id": "6699a791-f203-48bb-9253-c8c21f1bed9a",
   "metadata": {},
   "source": [
    "### Exercises to try out:"
   ]
  },
  {
   "cell_type": "markdown",
   "id": "bc298337-2535-4d15-873c-2e293fcc5af8",
   "metadata": {},
   "source": [
    "(you can do these either in python or with a yaml config)"
   ]
  },
  {
   "cell_type": "markdown",
   "id": "4c88dcea-7791-4431-ad58-61c439301339",
   "metadata": {},
   "source": [
    "- Make a more realistic galaxy profile. In real galaxy surveys, we tend to model most galaxies as a linear combination of an exponential disk (Sersic n=1) and a de Vaucouleurs bulge (Sersic n=4). Make sure you combine the two profiles together *before* applying any lensing or PSF!\n",
    "- Make a galaxy with star knots (Hint: see `galsim.RandomKnots`)\n",
    "- Make a field with lots of galaxies! (Hint: look at the `Scattered` galsim image class, easiest with yaml config)\n",
    "- Make a field with lots of galaxies *and* stars (do above first)\n",
    "- Make a field of galaxies that spell out SURF (or even a single letter)"
   ]
  },
  {
   "cell_type": "markdown",
   "id": "d14ad10e-8754-4e05-9b40-4fef4f444277",
   "metadata": {},
   "source": [
    "**Extra Credit:** Replicate my PhD project in 10 minutes! Add simulated galaxies on top of real galaxy survey images (`images/des_chip.fits`). Why would you want to do such a thing, instead of using fully simulated images where we know the truth? (Hint: you'll want to do this one in python, not yaml)"
   ]
  }
 ],
 "metadata": {
  "kernelspec": {
   "display_name": "Python 3 (ipykernel)",
   "language": "python",
   "name": "python3"
  },
  "language_info": {
   "codemirror_mode": {
    "name": "ipython",
    "version": 3
   },
   "file_extension": ".py",
   "mimetype": "text/x-python",
   "name": "python",
   "nbconvert_exporter": "python",
   "pygments_lexer": "ipython3",
   "version": "3.10.4"
  }
 },
 "nbformat": 4,
 "nbformat_minor": 5
}
